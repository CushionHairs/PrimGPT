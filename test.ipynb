{
 "cells": [
  {
   "cell_type": "code",
   "execution_count": null,
   "metadata": {},
   "outputs": [],
   "source": [
    "import os\n",
    "import requests\n",
    "\n",
    "def get_articles(query):\n",
    "    api_key = os.getenv('SERPAPI_KEY')\n",
    "    url = f\"https://serpapi.com/search.json?q={query}&api_key={api_key}\"\n",
    "    response = requests.get(url)\n",
    "    return response.json()"
   ]
  },
  {
   "cell_type": "code",
   "execution_count": null,
   "metadata": {},
   "outputs": [],
   "source": [
    "from openai import OpenAI\n",
    "\n",
    "def find_best_articles(search_results):\n",
    "    prompt = \"Given the following search results, select the best three articles and return their URLs:\\n\" + str(search_results)\n",
    "    response = OpenAI.Completion.create(\n",
    "        engine=\"text-davinci-003\",\n",
    "        prompt=prompt,\n",
    "        max_tokens=100\n",
    "    )\n",
    "    return response.choices[0].text.strip().split('\\n')"
   ]
  },
  {
   "cell_type": "code",
   "execution_count": null,
   "metadata": {},
   "outputs": [],
   "source": [
    "def summarize_article(article_content):\n",
    "    prompt = \"Summarize the following article:\\n\" + article_content\n",
    "    response = OpenAI.Completion.create(\n",
    "        engine=\"text-davinci-003\",\n",
    "        prompt=prompt,\n",
    "        max_tokens=150\n",
    "    )\n",
    "    return response.choices[0].text.strip()"
   ]
  },
  {
   "cell_type": "code",
   "execution_count": null,
   "metadata": {},
   "outputs": [],
   "source": [
    "def generate_twitter_thread(summaries):\n",
    "    prompt = \"Create a viral Twitter thread based on the following summaries:\\n\" + \"\\n\".join(summaries)\n",
    "    response = OpenAI.Completion.create(\n",
    "        engine=\"text-davinci-003\",\n",
    "        prompt=prompt,\n",
    "        max_tokens=280\n",
    "    )\n",
    "    return response.choices[0].text.strip()"
   ]
  },
  {
   "cell_type": "code",
   "execution_count": null,
   "metadata": {},
   "outputs": [],
   "source": [
    "import streamlit as st\n",
    "\n",
    "st.title(\"Autonomous Researcher\")\n",
    "topic = st.text_input(\"Enter a topic for Twitter thread:\")\n",
    "if st.button(\"Generate\"):\n",
    "    articles = get_articles(topic)\n",
    "    best_articles = find_best_articles(articles)\n",
    "    summaries = [summarize_article(article) for article in best_articles]\n",
    "    twitter_thread = generate_twitter_thread(summaries)\n",
    "    st.write(twitter_thread)"
   ]
  },
  {
   "cell_type": "code",
   "execution_count": null,
   "metadata": {},
   "outputs": [],
   "source": [
    "# Bing 을 통한 웹검색 결과와 함께 OpenAI API 를 사용하는 코드\n",
    "import requests\n",
    "import openai\n",
    "\n",
    "# API 키 설정\n",
    "openai.api_key = \"당신의_OpenAI_API_키\"\n",
    "bing_api_key = \"당신의_Bing_API_키\"\n",
    "\n",
    "# Bing Web Search API를 활용한 검색 함수 정의\n",
    "def bing_search(query):\n",
    "    headers = {\"Ocp-Apim-Subscription-Key\": bing_api_key}\n",
    "    params = {\"q\": query, \"textDecorations\": True, \"textFormat\": \"HTML\", \"count\": 3}\n",
    "    search_url = \"https://api.bing.microsoft.com/v7.0/search\"\n",
    "    response = requests.get(search_url, headers=headers, params=params)\n",
    "    response.raise_for_status()\n",
    "    search_results = response.json()\n",
    "\n",
    "    snippets = []\n",
    "    for result in search_results[\"webPages\"][\"value\"]:\n",
    "        snippets.append(f\"{result['name']}: {result['snippet']}\")\n",
    "    return \"\\n\".join(snippets)\n",
    "\n",
    "# 검색 질문 입력\n",
    "user_question = \"최근 한국에서 가장 인기 있는 스마트폰 모델은 무엇인가요?\"\n",
    "\n",
    "# Bing API를 통해 최신 정보 검색\n",
    "search_results = bing_search(user_question)\n",
    "\n",
    "# GPT 모델에게 검색 결과와 질문을 전달하여 자연스러운 답변 생성\n",
    "prompt = f\"\"\"\n",
    "다음은 사용자의 질문입니다: \"{user_question}\"\n",
    "\n",
    "아래는 Bing 웹 검색을 통해 얻은 최신 검색 결과입니다:\n",
    "{search_results}\n",
    "\n",
    "위 내용을 바탕으로 사용자의 질문에 정확하고 자연스럽게 답변해 주세요.\n",
    "\"\"\"\n",
    "\n",
    "# OpenAI API로 답변 생성\n",
    "response = openai.ChatCompletion.create(\n",
    "    model=\"gpt-3.5-turbo\",\n",
    "    messages=[\n",
    "        {\"role\": \"system\", \"content\": \"당신은 검색 결과를 바탕으로 정확한 정보를 제공하는 친절한 어시스턴트입니다.\"},\n",
    "        {\"role\": \"user\", \"content\": prompt}\n",
    "    ],\n",
    "    temperature=0.5,\n",
    "    max_tokens=500\n",
    ")\n",
    "\n",
    "answer = response.choices[0].message.content\n",
    "print(\"🌸✨ 답변:\", answer)"
   ]
  },
  {
   "cell_type": "code",
   "execution_count": 1,
   "metadata": {},
   "outputs": [
    {
     "name": "stdout",
     "output_type": "stream",
     "text": [
      "ea35f5a6d00afa1252be7cd25285aca3440ede00562df77e2fe926b15eee10d0\n"
     ]
    }
   ],
   "source": [
    "import secrets \n",
    "\n",
    "token_key = secrets.token_hex(32)\n",
    "print(token_key)"
   ]
  },
  {
   "cell_type": "code",
   "execution_count": null,
   "metadata": {},
   "outputs": [],
   "source": []
  }
 ],
 "metadata": {
  "kernelspec": {
   "display_name": "gpt4o",
   "language": "python",
   "name": "python3"
  },
  "language_info": {
   "codemirror_mode": {
    "name": "ipython",
    "version": 3
   },
   "file_extension": ".py",
   "mimetype": "text/x-python",
   "name": "python",
   "nbconvert_exporter": "python",
   "pygments_lexer": "ipython3",
   "version": "3.11.9"
  }
 },
 "nbformat": 4,
 "nbformat_minor": 2
}
